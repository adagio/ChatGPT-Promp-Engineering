{
 "cells": [
  {
   "cell_type": "markdown",
   "id": "97ff3302-93a6-4516-bb4d-cebc1ef74b39",
   "metadata": {},
   "source": [
    "# Iterative Prompt Development\n",
    "In this lesson, you'll iteratively analyze and refine your prompts to generate marketing copy from a product fact sheet.\n",
    "\n",
    "## Setup"
   ]
  },
  {
   "cell_type": "code",
   "execution_count": 1,
   "id": "95479a7b-25e5-48dc-aeb6-0772ec3c3869",
   "metadata": {},
   "outputs": [],
   "source": [
    "from groq import Groq\n",
    "import os\n",
    "\n",
    "from dotenv import load_dotenv, find_dotenv\n",
    "_ = load_dotenv(find_dotenv())\n",
    "\n",
    "client = Groq(\n",
    "    api_key=os.environ.get(\"GROQ_API_KEY\"),\n",
    ")"
   ]
  },
  {
   "cell_type": "code",
   "execution_count": 2,
   "id": "7433d97e-6948-4a74-a947-55590ff4c2d4",
   "metadata": {},
   "outputs": [],
   "source": [
    "def get_completion(prompt, model=\"llama3-70b-8192\"):\n",
    "    messages = [\n",
    "        {\n",
    "            \"role\": \"system\",\n",
    "            \"content\": \"You are a helpful assistant.\"\n",
    "        },\n",
    "        {\n",
    "            \"role\": \"user\",\n",
    "            \"content\": prompt\n",
    "        }\n",
    "    ]\n",
    "    response = client.chat.completions.create(\n",
    "        model=model,\n",
    "        messages=messages,\n",
    "        temperature=0\n",
    "    )\n",
    "    return response.choices[0].message.content"
   ]
  },
  {
   "cell_type": "markdown",
   "id": "db5687b2-5c77-4825-8a7b-9ac667c68b44",
   "metadata": {},
   "source": [
    "## Generate a marketing product description from a product fact sheet"
   ]
  },
  {
   "cell_type": "code",
   "execution_count": 3,
   "id": "bb97cece-6064-4c26-b85b-f34e389abc13",
   "metadata": {},
   "outputs": [],
   "source": [
    "fact_sheet_chair = \"\"\"\n",
    "OVERVIEW\n",
    "- Part of a beautiful family of mid-century inspired office furniture, \n",
    "including filing cabinets, desks, bookcases, meeting tables, and more.\n",
    "- Several options of shell color and base finishes.\n",
    "- Available with plastic back and front upholstery (SWC-100) \n",
    "or full upholstery (SWC-110) in 10 fabric and 6 leather options.\n",
    "- Base finish options are: stainless steel, matte black, \n",
    "gloss white, or chrome.\n",
    "- Chair is available with or without armrests.\n",
    "- Suitable for home or business settings.\n",
    "- Qualified for contract use.\n",
    "\n",
    "CONSTRUCTION\n",
    "- 5-wheel plastic coated aluminum base.\n",
    "- Pneumatic chair adjust for easy raise/lower action.\n",
    "\n",
    "DIMENSIONS\n",
    "- WIDTH 53 CM | 20.87”\n",
    "- DEPTH 51 CM | 20.08”\n",
    "- HEIGHT 80 CM | 31.50”\n",
    "- SEAT HEIGHT 44 CM | 17.32”\n",
    "- SEAT DEPTH 41 CM | 16.14”\n",
    "\n",
    "OPTIONS\n",
    "- Soft or hard-floor caster options.\n",
    "- Two choices of seat foam densities: \n",
    " medium (1.8 lb/ft3) or high (2.8 lb/ft3)\n",
    "- Armless or 8 position PU armrests \n",
    "\n",
    "MATERIALS\n",
    "SHELL BASE GLIDER\n",
    "- Cast Aluminum with modified nylon PA6/PA66 coating.\n",
    "- Shell thickness: 10 mm.\n",
    "SEAT\n",
    "- HD36 foam\n",
    "\n",
    "COUNTRY OF ORIGIN\n",
    "- Italy\n",
    "\"\"\""
   ]
  },
  {
   "cell_type": "code",
   "execution_count": 4,
   "id": "ee5f1c79-856f-4513-8b54-814de8f31ec4",
   "metadata": {
    "scrolled": true
   },
   "outputs": [
    {
     "name": "stdout",
     "output_type": "stream",
     "text": [
      "Here is a product description based on the technical specifications:\n",
      "\n",
      "**Elevate Your Workspace with Style and Comfort**\n",
      "\n",
      "Introducing our mid-century inspired office chair, designed to bring a touch of sophistication and elegance to your home or business setting. With a range of shell color and base finish options, including stainless steel, matte black, gloss white, or chrome, this chair is sure to complement any décor.\n",
      "\n",
      "Choose from 10 fabric and 6 leather upholstery options, available with plastic back and front upholstery or full upholstery for added comfort. The chair is also available with or without armrests, providing flexibility to suit your needs.\n",
      "\n",
      "Built with durability in mind, this chair features a 5-wheel plastic coated aluminum base and pneumatic chair adjust for easy height adjustment. The HD36 foam seat provides optimal comfort, and you can choose from medium or high-density seat options to suit your preferences. With soft or hard-floor caster options, this chair is suitable for use on a variety of floor types.\n",
      "\n",
      "Crafted with attention to detail, this chair boasts a sturdy cast aluminum shell with a modified nylon PA6/PA66 coating, ensuring a durable and long-lasting finish. With a seat height of 44 cm (17.32”) and a depth of 41 cm (16.14”), this chair provides ample support and comfort for users of all sizes.\n",
      "\n",
      "Whether you're looking to upgrade your home office or furnish a commercial space, this chair is qualified for contract use and is sure to impress. Made in Italy, this chair is built to last and provide years of comfort and style.\n",
      "\n",
      "**Key Features:**\n",
      "\n",
      "* Mid-century inspired design\n",
      "* Range of shell color and base finish options\n",
      "* 10 fabric and 6 leather upholstery options\n",
      "* Available with or without armrests\n",
      "* 5-wheel plastic coated aluminum base\n",
      "* Pneumatic chair adjust for easy height adjustment\n",
      "* HD36 foam seat with medium or high-density options\n",
      "* Soft or hard-floor caster options\n",
      "* Suitable for home or business use\n",
      "* Qualified for contract use\n",
      "* Made in Italy\n"
     ]
    }
   ],
   "source": [
    "prompt = f\"\"\"\n",
    "Your task is to help a marketing team create a \n",
    "description for a retail website of a product based \n",
    "on a technical fact sheet.\n",
    "\n",
    "Write a product description based on the information \n",
    "provided in the technical specifications delimited by \n",
    "triple backticks.\n",
    "\n",
    "Technical specifications: ```{fact_sheet_chair}```\n",
    "\"\"\"\n",
    "response = get_completion(prompt)\n",
    "print(response)"
   ]
  },
  {
   "cell_type": "markdown",
   "id": "1ff109de-cd5d-4e2c-99f1-8d0e16e03ebb",
   "metadata": {},
   "source": [
    "## Issue 1: The text is too long \n",
    "- Limit the number of words/sentences/characters."
   ]
  },
  {
   "cell_type": "code",
   "execution_count": 5,
   "id": "ee0b022d-182b-4e93-8801-6104a6c90397",
   "metadata": {},
   "outputs": [
    {
     "name": "stdout",
     "output_type": "stream",
     "text": [
      "Here is a product description based on the technical specifications:\n",
      "\n",
      "\"Elevate your workspace with our mid-century inspired office chair, available in a range of shell colors and 6 leather options. Adjustable height and armrest options ensure a comfortable fit, while a durable aluminum base and high-density foam seat ensure long-lasting support.\"\n"
     ]
    }
   ],
   "source": [
    "prompt = f\"\"\"\n",
    "Your task is to help a marketing team create a \n",
    "description for a retail website of a product based \n",
    "on a technical fact sheet.\n",
    "\n",
    "Write a product description based on the information \n",
    "provided in the technical specifications delimited by \n",
    "triple backticks.\n",
    "\n",
    "Use at most 50 words.\n",
    "\n",
    "Technical specifications: ```{fact_sheet_chair}```\n",
    "\"\"\"\n",
    "response = get_completion(prompt)\n",
    "print(response)"
   ]
  },
  {
   "cell_type": "code",
   "execution_count": 6,
   "id": "62f98a06-f436-4634-97fa-c9611cd60f1b",
   "metadata": {},
   "outputs": [
    {
     "data": {
      "text/plain": [
       "51"
      ]
     },
     "execution_count": 6,
     "metadata": {},
     "output_type": "execute_result"
    }
   ],
   "source": [
    "len(response.split())"
   ]
  },
  {
   "cell_type": "markdown",
   "id": "04d020d3-44bc-4364-8a72-0bb46405468d",
   "metadata": {},
   "source": [
    "## Issue 2. Text focuses on the wrong details\n",
    "- Ask it to focus on the aspects that are relevant to the intended audience."
   ]
  },
  {
   "cell_type": "code",
   "execution_count": 7,
   "id": "167b4c89-d1ff-48cc-b710-ed051ceffcbf",
   "metadata": {},
   "outputs": [
    {
     "name": "stdout",
     "output_type": "stream",
     "text": [
      "Here is a product description based on the technical specifications:\n",
      "\n",
      "\"Constructed with a durable cast aluminum shell base glider and HD36 foam seat, this office chair features a 5-wheel plastic coated aluminum base and pneumatic chair adjust for easy height adjustment. Available in various finishes and configurations to suit your contract furniture requirements.\"\n"
     ]
    }
   ],
   "source": [
    "prompt = f\"\"\"\n",
    "Your task is to help a marketing team create a \n",
    "description for a retail website of a product based \n",
    "on a technical fact sheet.\n",
    "\n",
    "Write a product description based on the information \n",
    "provided in the technical specifications delimited by \n",
    "triple backticks.\n",
    "\n",
    "The description is intended for furniture retailers, \n",
    "so should be technical in nature and focus on the \n",
    "materials the product is constructed from.\n",
    "\n",
    "Use at most 50 words.\n",
    "\n",
    "Technical specifications: ```{fact_sheet_chair}```\n",
    "\"\"\"\n",
    "response = get_completion(prompt)\n",
    "print(response)"
   ]
  },
  {
   "cell_type": "code",
   "execution_count": 8,
   "id": "40067d5a-76ce-4b52-a0f0-00afe387543f",
   "metadata": {},
   "outputs": [
    {
     "name": "stdout",
     "output_type": "stream",
     "text": [
      "Here is a product description based on the technical specifications:\n",
      "\n",
      "This mid-century inspired office chair features a durable cast aluminum shell base glider with a modified nylon PA6/PA66 coating and a 10mm thickness. The seat is constructed with HD36 foam. Available with various base finishes and upholstery options.\n",
      "\n",
      "Product IDs: SWC-100`, `SWC-110`\n"
     ]
    }
   ],
   "source": [
    "prompt = f\"\"\"\n",
    "Your task is to help a marketing team create a \n",
    "description for a retail website of a product based \n",
    "on a technical fact sheet.\n",
    "\n",
    "Write a product description based on the information \n",
    "provided in the technical specifications delimited by \n",
    "triple backticks.\n",
    "\n",
    "The description is intended for furniture retailers, \n",
    "so should be technical in nature and focus on the \n",
    "materials the product is constructed from.\n",
    "\n",
    "At the end of the description, include every 7-character \n",
    "Product ID in the technical specification.\n",
    "\n",
    "Use at most 50 words.\n",
    "\n",
    "Technical specifications: ```{fact_sheet_chair}```\n",
    "\"\"\"\n",
    "response = get_completion(prompt)\n",
    "print(response)"
   ]
  },
  {
   "cell_type": "markdown",
   "id": "67ba9a88-d2da-45ce-9509-bcef696f2a21",
   "metadata": {},
   "source": [
    "## Issue 3. Description needs a table of dimensions\n",
    "- Ask it to extract information and organize it in a table."
   ]
  },
  {
   "cell_type": "code",
   "execution_count": 9,
   "id": "bc5a0620-7b12-4fa9-b950-c98eb5975765",
   "metadata": {},
   "outputs": [
    {
     "name": "stdout",
     "output_type": "stream",
     "text": [
      "Here is the product description and dimensions table in HTML format:\n",
      "\n",
      "<div>\n",
      "This mid-century office chair is constructed with a 5-wheel plastic coated aluminum base and a pneumatic chair lift for easy height adjustment. The shell is made from cast aluminum with a modified nylon PA6/PA66 coating, with a thickness of 10 mm and features a HD36 foam seat. The chair is available with or without armrests and comes in a range of shell color and base finish options, including stainless steel, matte black, gloss white, and chrome. Suitable for both home and business use, this chair is qualified for contract use and is made in Italy.\n",
      "\n",
      "Product ID: SWC-100, SWC-110\n",
      "</div>\n",
      "\n",
      "<table>\n",
      "  <caption>Product Dimensions</caption>\n",
      "  <tr><td>WIDTH</th><td>20.87”</td></tr>\n",
      "  <tr><td>DEPTH</td><td>20.08”</td></tr>\n",
      "  <tr><td>HEIGHT</td><td>31.50”</td></tr>\n",
      "  <tr><td>SEAT HEIGHT</td><td>17.32”</td></tr>\n",
      "  <tr><td>SEAT DEPTH</td><td>16.14”</td></tr>\n",
      "</table>\n",
      "\n",
      "Let me know if you need any further assistance!\n"
     ]
    }
   ],
   "source": [
    "prompt = f\"\"\"\n",
    "Your task is to help a marketing team create a \n",
    "description for a retail website of a product based \n",
    "on a technical fact sheet.\n",
    "\n",
    "Write a product description based on the information \n",
    "provided in the technical specifications delimited by \n",
    "triple backticks.\n",
    "\n",
    "The description is intended for furniture retailers, \n",
    "so should be technical in nature and focus on the \n",
    "materials the product is constructed from.\n",
    "\n",
    "At the end of the description, include every 7-character \n",
    "Product ID in the technical specification.\n",
    "\n",
    "After the description, include a table that gives the \n",
    "product's dimensions. The table should have two columns.\n",
    "In the first column include the name of the dimension. \n",
    "In the second column include the measurements in inches only.\n",
    "\n",
    "Give the table the title 'Product Dimensions'.\n",
    "\n",
    "Format everything as HTML that can be used in a website. \n",
    "Place the description in a <div> element.\n",
    "\n",
    "Technical specifications: ```{fact_sheet_chair}```\n",
    "\"\"\"\n",
    "\n",
    "response = get_completion(prompt)\n",
    "print(response)"
   ]
  },
  {
   "cell_type": "markdown",
   "id": "2d99c193-3dcc-4fe6-ab82-c4dce54789d5",
   "metadata": {},
   "source": [
    "## Load Python libraries to view HTML"
   ]
  },
  {
   "cell_type": "code",
   "execution_count": 11,
   "id": "956c71b5-ed45-42e6-8dd4-442a5dcd7d15",
   "metadata": {},
   "outputs": [],
   "source": [
    "from IPython.display import display, HTML"
   ]
  },
  {
   "cell_type": "code",
   "execution_count": 12,
   "id": "97064aac-8e2f-4089-81da-613c35c7feb5",
   "metadata": {},
   "outputs": [
    {
     "data": {
      "text/html": [
       "Here is the product description and dimensions table in HTML format:\n",
       "\n",
       "<div>\n",
       "This mid-century office chair is constructed with a 5-wheel plastic coated aluminum base and a pneumatic chair lift for easy height adjustment. The shell is made from cast aluminum with a modified nylon PA6/PA66 coating, with a thickness of 10 mm and features a HD36 foam seat. The chair is available with or without armrests and comes in a range of shell color and base finish options, including stainless steel, matte black, gloss white, and chrome. Suitable for both home and business use, this chair is qualified for contract use and is made in Italy.\n",
       "\n",
       "Product ID: SWC-100, SWC-110\n",
       "</div>\n",
       "\n",
       "<table>\n",
       "  <caption>Product Dimensions</caption>\n",
       "  <tr><td>WIDTH</th><td>20.87”</td></tr>\n",
       "  <tr><td>DEPTH</td><td>20.08”</td></tr>\n",
       "  <tr><td>HEIGHT</td><td>31.50”</td></tr>\n",
       "  <tr><td>SEAT HEIGHT</td><td>17.32”</td></tr>\n",
       "  <tr><td>SEAT DEPTH</td><td>16.14”</td></tr>\n",
       "</table>\n",
       "\n",
       "Let me know if you need any further assistance!"
      ],
      "text/plain": [
       "<IPython.core.display.HTML object>"
      ]
     },
     "metadata": {},
     "output_type": "display_data"
    }
   ],
   "source": [
    "display(HTML(response))"
   ]
  }
 ],
 "metadata": {
  "kernelspec": {
   "display_name": "Python 3 (ipykernel)",
   "language": "python",
   "name": "python3"
  },
  "language_info": {
   "codemirror_mode": {
    "name": "ipython",
    "version": 3
   },
   "file_extension": ".py",
   "mimetype": "text/x-python",
   "name": "python",
   "nbconvert_exporter": "python",
   "pygments_lexer": "ipython3",
   "version": "3.11.11"
  }
 },
 "nbformat": 4,
 "nbformat_minor": 5
}
