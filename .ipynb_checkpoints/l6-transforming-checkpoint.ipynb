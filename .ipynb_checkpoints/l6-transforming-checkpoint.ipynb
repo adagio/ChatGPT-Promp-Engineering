{
 "cells": [
  {
   "cell_type": "markdown",
   "id": "ffcb51f7-5bae-457e-9a76-989238f4aae3",
   "metadata": {},
   "source": [
    "# Transforming\n",
    "\n",
    "In this notebook, we will explore how to use Large Language Models for text transformation tasks such as language translation, spelling and grammar checking, tone adjustment, and format conversion.\n",
    "\n",
    "## Setup"
   ]
  },
  {
   "cell_type": "code",
   "execution_count": 1,
   "id": "9e2a3e4d-1db5-45e9-bd11-f926b2acdd82",
   "metadata": {},
   "outputs": [],
   "source": [
    "from groq import Groq\n",
    "import os\n",
    "\n",
    "from dotenv import load_dotenv, find_dotenv\n",
    "_ = load_dotenv(find_dotenv())\n",
    "\n",
    "client = Groq(\n",
    "    api_key=os.environ.get(\"GROQ_API_KEY\"),\n",
    ")"
   ]
  },
  {
   "cell_type": "code",
   "execution_count": 2,
   "id": "b122962e-20a0-4d47-a839-0d90e3fce4b2",
   "metadata": {},
   "outputs": [],
   "source": [
    "def get_completion(prompt, model=\"llama3-70b-8192\"):\n",
    "    messages = [\n",
    "        {\n",
    "            \"role\": \"system\",\n",
    "            \"content\": \"You are a helpful assistant.\"\n",
    "        },\n",
    "        {\n",
    "            \"role\": \"user\",\n",
    "            \"content\": prompt\n",
    "        }\n",
    "    ]\n",
    "    response = client.chat.completions.create(\n",
    "        model=model,\n",
    "        messages=messages,\n",
    "        temperature=0\n",
    "    )\n",
    "    return response.choices[0].message.content"
   ]
  },
  {
   "cell_type": "markdown",
   "id": "18e0c097-35a4-4cc0-910d-fa4b1e0b8303",
   "metadata": {},
   "source": [
    "## Translation\n",
    "\n",
    "ChatGPT is trained with sources in many languages. This gives the model the ability to do translation. Here are some examples of how to use this capability."
   ]
  },
  {
   "cell_type": "code",
   "execution_count": 3,
   "id": "580403f7-7ffb-44e5-93cf-03ad1c1d4e08",
   "metadata": {},
   "outputs": [
    {
     "name": "stdout",
     "output_type": "stream",
     "text": [
      "Here is the translation:\n",
      "\n",
      "Hola, me gustaría ordenar una licuadora.\n",
      "\n",
      "Let me know if you need anything else!\n"
     ]
    }
   ],
   "source": [
    "prompt = f\"\"\"\n",
    "Translate the following English text to Spanish: \\ \n",
    "```Hi, I would like to order a blender```\n",
    "\"\"\"\n",
    "response = get_completion(prompt)\n",
    "print(response)"
   ]
  },
  {
   "cell_type": "code",
   "execution_count": 4,
   "id": "1b0d860e-c87a-43b5-97be-dd1beb1cc25c",
   "metadata": {},
   "outputs": [
    {
     "name": "stdout",
     "output_type": "stream",
     "text": [
      "The language is French. The sentence \"Combien coûte le lampadaire?\" translates to \"How much does the lamp cost?\" in English.\n"
     ]
    }
   ],
   "source": [
    "prompt = f\"\"\"\n",
    "Tell me which language this is: \n",
    "```Combien coûte le lampadaire?```\n",
    "\"\"\"\n",
    "response = get_completion(prompt)\n",
    "print(response)"
   ]
  },
  {
   "cell_type": "code",
   "execution_count": 5,
   "id": "1b1cd186-430b-4102-b478-b47e31196be5",
   "metadata": {},
   "outputs": [
    {
     "name": "stdout",
     "output_type": "stream",
     "text": [
      "Here are the translations you requested:\n",
      "\n",
      "**French:** Je veux commander un ballon de basket.\n",
      "\n",
      "**Spanish:** Quiero ordenar un balón de baloncesto.\n",
      "\n",
      "**English Pirate:** Arrr, I be wantin' to order yerself a basketball, savvy?\n"
     ]
    }
   ],
   "source": [
    "prompt = f\"\"\"\n",
    "Translate the following  text to French and Spanish\n",
    "and English pirate: \\\n",
    "```I want to order a basketball```\n",
    "\"\"\"\n",
    "response = get_completion(prompt)\n",
    "print(response)"
   ]
  },
  {
   "cell_type": "code",
   "execution_count": 6,
   "id": "30f98516-8305-4e43-b2d1-a8947ba42f4d",
   "metadata": {},
   "outputs": [
    {
     "name": "stdout",
     "output_type": "stream",
     "text": [
      "Here are the translations:\n",
      "\n",
      "**Formal:**\n",
      "¿Desea ordenar una almohada?\n",
      "\n",
      "**Informal:**\n",
      "¿Quieres ordenar una almohada?\n",
      "\n",
      "Note: In Spanish, the formal\" form is used when speaking to someone you don't know well, or to show respect, while the \"informal\" form is used with friends, family, or people you're familiar with.\n"
     ]
    }
   ],
   "source": [
    "prompt = f\"\"\"\n",
    "Translate the following text to Spanish in both the \\\n",
    "formal and informal forms: \n",
    "'Would you like to order a pillow?'\n",
    "\"\"\"\n",
    "response = get_completion(prompt)\n",
    "print(response)"
   ]
  },
  {
   "cell_type": "markdown",
   "id": "cc6c2d47-fa90-4f43-8774-ac74b26b3710",
   "metadata": {},
   "source": [
    "### Universal Translator\n",
    "Imagine you are in charge of IT at a large multinational e-commerce company. Users are messaging you with IT issues in all their native languages. Your staff is from all over the world and speaks only their native languages. You need a universal translator!"
   ]
  },
  {
   "cell_type": "code",
   "execution_count": 7,
   "id": "08866b60-cf0a-4dc9-95e4-d4a7e53d712f",
   "metadata": {},
   "outputs": [],
   "source": [
    "user_messages = [\n",
    "  \"La performance du système est plus lente que d'habitude.\",  # System performance is slower than normal         \n",
    "  \"Mi monitor tiene píxeles que no se iluminan.\",              # My monitor has pixels that are not lighting\n",
    "  \"Il mio mouse non funziona\",                                 # My mouse is not working\n",
    "  \"Mój klawisz Ctrl jest zepsuty\",                             # My keyboard has a broken control key\n",
    "  \"我的屏幕在闪烁\"                                               # My screen is flashing\n",
    "] "
   ]
  },
  {
   "cell_type": "code",
   "execution_count": 8,
   "id": "c7540f67-4e94-4c54-9454-6a79e5c3f0ae",
   "metadata": {},
   "outputs": [
    {
     "name": "stdout",
     "output_type": "stream",
     "text": [
      "Original message (The language of the given text is French.): La performance du système est plus lente que d'habitude.\n",
      "Here are the translations:\n",
      "\n",
      "**English:** \"The system's performance is slower than usual.\"\n",
      "\n",
      "**Korean:** . \n",
      "\n",
      "Original message (The language of the sentence is Spanish.): Mi monitor tiene píxeles que no se iluminan.\n",
      "Here are the translations:\n",
      "\n",
      "**English:** \"My monitor has pixels that don't illuminate.\"\n",
      "\n",
      "**Korean:** \"\". \n",
      "\n",
      "Original message (The language is Italian. The sentence \"Il mio mouse non funziona\" translates to \"My mouse doesn't work\" in English.): Il mio mouse non funziona\n",
      "Here are the translations:\n",
      "\n",
      "**English:** \"My mouse isn't working\"\n",
      "\n",
      "**Korean:** , . \n",
      "\n",
      "Original message (The language is Polish. The sentence translates to \"My Ctrl key is broken\" in English.): Mój klawisz Ctrl jest zepsuty\n",
      "Here are the translations:\n",
      "\n",
      "**English:** \"My Ctrl key is broken\"\n",
      "\n",
      "**Korean:** \"\" \n",
      "\n",
      "Original message (The language is Chinese! 😊): 我的屏幕在闪烁\n",
      "Here are the translations:\n",
      "\n",
      "**English:** \"My screen is flickering\"\n",
      "\n",
      "**Korean:** \"내 화면이 깜박이고 있습니다\" \n",
      "\n"
     ]
    }
   ],
   "source": [
    "for issue in user_messages:\n",
    "    prompt = f\"Tell me what language this is: ```{issue}```\"\n",
    "    lang = get_completion(prompt)\n",
    "    print(f\"Original message ({lang}): {issue}\")\n",
    "\n",
    "    prompt = f\"\"\"\n",
    "    Translate the following  text to English \\\n",
    "    and Korean: ```{issue}```\n",
    "    \"\"\"\n",
    "    response = get_completion(prompt)\n",
    "    print(response, \"\\n\")"
   ]
  },
  {
   "cell_type": "markdown",
   "id": "49d72df1-91ff-421b-a1fe-c49398fa6f80",
   "metadata": {},
   "source": [
    "## Tone Transformation\n",
    "Writing can vary based on the intended audience. ChatGPT can produce different tones."
   ]
  },
  {
   "cell_type": "code",
   "execution_count": 9,
   "id": "93ba758b-2c36-4dc4-95d1-8f70512d7e8e",
   "metadata": {},
   "outputs": [
    {
     "name": "stdout",
     "output_type": "stream",
     "text": [
      "Here is a possible translation of the given sentence into a business letter format:\n",
      "\n",
      "Dear [Recipient's Name],\n",
      "\n",
      "I am writing to bring to your attention a product specification for a standing lamp that I believe warrants your consideration.\n",
      "\n",
      "The details of the lamp are as follows: [insert specifications of the lamp, such as height, material, features, etc.].\n",
      "\n",
      "I would appreciate the opportunity to discuss this product further with you and explore how it may meet your needs.\n",
      "\n",
      "Please do not hesitate to contact me if you require any additional information.\n",
      "\n",
      "Sincerely,\n",
      "Joe\n"
     ]
    }
   ],
   "source": [
    "prompt = f\"\"\"\n",
    "Translate the following from slang to a business letter: \n",
    "'Dude, This is Joe, check out this spec on this standing lamp.'\n",
    "\"\"\"\n",
    "response = get_completion(prompt)\n",
    "print(response)"
   ]
  },
  {
   "cell_type": "markdown",
   "id": "ed6abc23-737d-4da3-8a75-cbf27d0cbfef",
   "metadata": {},
   "source": [
    "## Format Conversion\n",
    "ChatGPT can translate between formats. The prompt should describe the input and output formats."
   ]
  },
  {
   "cell_type": "code",
   "execution_count": 10,
   "id": "caf13d1b-6078-4d0f-b816-f4931c7bcee0",
   "metadata": {},
   "outputs": [
    {
     "name": "stdout",
     "output_type": "stream",
     "text": [
      "Here is the Python code to translate the JSON to an HTML table with column headers and title:\n",
      "\n",
      "```Python\n",
      "import json\n",
      "\n",
      "data = {'resturant employees': [{'name': 'Shyam', 'email': 'shyamjaiswal@gmail.com'}, \n",
      "                    {'name': 'bob32@gmail.com'}, \n",
      "                    {'name': 'Jai', 'email': 'jai87@gmail.com'}]}\n",
      "\n",
      "html table header\n",
      "html = '<table border=\"1\"><tr><th>Employee Name</th><th>Email</th></tr>'\n",
      "for employee in data['resturant employees']:\n",
      "    html += '<tr><td>{}</td><td>{}</td></tr>'.format(employee['name'], employee['email'])\n",
      "html += '</table>'\n",
      "print(html)\n",
      "```\n",
      "\n",
      "Output:\n",
      "\n",
      "```html\n",
      "<table border=\"1\"><tr><th>Employee Name</th><th>Email</th></tr>\n",
      "<tr><td>Shyam</td><td>shyamjaiswal@gmail.com</td></tr>\n",
      "<tr><td>Bob</td><td>bob32@gmail.com</td></tr>\n",
      "<tr><td>Jai</td><td>jai87@gmail.com</td></tr>\n",
      "</table>\n",
      "```\n",
      "\n",
      "Note: The second dictionary in the list is missing the 'name' key, so I assumed it's 'Bob'.\n"
     ]
    }
   ],
   "source": [
    "data_json = { \"resturant employees\" :[ \n",
    "    {\"name\":\"Shyam\", \"email\":\"shyamjaiswal@gmail.com\"},\n",
    "    {\"name\":\"Bob\", \"email\":\"bob32@gmail.com\"},\n",
    "    {\"name\":\"Jai\", \"email\":\"jai87@gmail.com\"}\n",
    "]}\n",
    "\n",
    "prompt = f\"\"\"\n",
    "Translate the following python dictionary from JSON to an HTML \\\n",
    "table with column headers and title: {data_json}\n",
    "\"\"\"\n",
    "response = get_completion(prompt)\n",
    "print(response)"
   ]
  },
  {
   "cell_type": "code",
   "execution_count": 11,
   "id": "692340b9-f629-48cf-a90d-bbf488d744b9",
   "metadata": {},
   "outputs": [
    {
     "data": {
      "text/html": [
       "Here is the Python code to translate the JSON to an HTML table with column headers and title:\n",
       "\n",
       "```Python\n",
       "import json\n",
       "\n",
       "data = {'resturant employees': [{'name': 'Shyam', 'email': 'shyamjaiswal@gmail.com'}, \n",
       "                    {'name': 'bob32@gmail.com'}, \n",
       "                    {'name': 'Jai', 'email': 'jai87@gmail.com'}]}\n",
       "\n",
       "html table header\n",
       "html = '<table border=\"1\"><tr><th>Employee Name</th><th>Email</th></tr>'\n",
       "for employee in data['resturant employees']:\n",
       "    html += '<tr><td>{}</td><td>{}</td></tr>'.format(employee['name'], employee['email'])\n",
       "html += '</table>'\n",
       "print(html)\n",
       "```\n",
       "\n",
       "Output:\n",
       "\n",
       "```html\n",
       "<table border=\"1\"><tr><th>Employee Name</th><th>Email</th></tr>\n",
       "<tr><td>Shyam</td><td>shyamjaiswal@gmail.com</td></tr>\n",
       "<tr><td>Bob</td><td>bob32@gmail.com</td></tr>\n",
       "<tr><td>Jai</td><td>jai87@gmail.com</td></tr>\n",
       "</table>\n",
       "```\n",
       "\n",
       "Note: The second dictionary in the list is missing the 'name' key, so I assumed it's 'Bob'."
      ],
      "text/plain": [
       "<IPython.core.display.HTML object>"
      ]
     },
     "metadata": {},
     "output_type": "display_data"
    }
   ],
   "source": [
    "from IPython.display import display, Markdown, Latex, HTML, JSON\n",
    "display(HTML(response))"
   ]
  },
  {
   "cell_type": "markdown",
   "id": "c1c50a12-4528-4ea4-bcef-91150e367faa",
   "metadata": {},
   "source": [
    "## Spellcheck/Grammar check.\n",
    "\n",
    "Here are some examples of common grammar and spelling problems and the LLM's response. \n",
    "\n",
    "To signal to the LLM that you want it to proofread your text, you instruct the model to 'proofread' or 'proofread and correct'."
   ]
  },
  {
   "cell_type": "code",
   "execution_count": 15,
   "id": "112502d6-7a89-4f56-ad41-f4dd23f98e6f",
   "metadata": {},
   "outputs": [
    {
     "name": "stdout",
     "output_type": "stream",
     "text": [
      "0\n",
      "I found an error!\n",
      "\n",
      "The corrected text is:\n",
      "The girl with the black and white puppies has a ball.\n",
      "\n",
      "Let me explain: The subject of the sentence is \"The girl with the black and white puppies\", which is a singular noun. Therefore, the verb \"has\" (singular) should be used instead of \"have\" (plural).\n",
      "1\n",
      "No errors found\n",
      "2\n",
      "I found two errors:\n",
      "\n",
      "1. \"Its\" should be \"it's\" (contraction for \"it is\")\n",
      "2. \"it’s\" should be \"its\" (possessive form)\n",
      "\n",
      "Here is the corrected text:\n",
      "it's going to be a long day does the car need its oil changed\n",
      "3\n",
      "I found errors in the text. Here is the corrected version:\n",
      "There goes my freedom They're going to bring their suitcases\n",
      "4\n",
      "I found an error!\n",
      "\n",
      "The corrected text is:\n",
      "You're going to need your notebook.\n",
      "\n",
      "Let me explain:\n",
      "- \"You're\" is a contraction of \"you are\", whereas \"you're\" is a possessive adjective meaning \"belonging to you\".\n",
      "- No need for \"notebook\" to be possessive, as it's a general object.\n",
      "5\n",
      "I found two errors:\n",
      "\n",
      "* \"effects\" should be \"affects\" (correct spelling and meaning)\n",
      "* \"affect\" should be \"effect\" (correct spelling and meaning)\n",
      "\n",
      "Here is the corrected text:\n",
      "\n",
      "That medicine affects my ability to sleep Have you heard of the butterfly effect\n",
      "6\n",
      "I found some errors!\n",
      "\n",
      "Here is the corrected version:\n",
      "This phrase is to check chatGPT for spelling ability\n"
     ]
    }
   ],
   "source": [
    "text = [ \n",
    "  \"The girl with the black and white puppies have a ball.\",  # The girl has a ball.\n",
    "  \"Yolanda has her notebook.\", # ok\n",
    "  \"Its going to be a long day. Does the car need it’s oil changed?\",  # Homonyms\n",
    "  \"Their goes my freedom. There going to bring they’re suitcases.\",  # Homonyms\n",
    "  \"Your going to need you’re notebook.\",  # Homonyms\n",
    "  \"That medicine effects my ability to sleep. Have you heard of the butterfly affect?\", # Homonyms\n",
    "  \"This phrase is to cherck chatGPT for speling abilitty\"  # spelling\n",
    "]\n",
    "for (key, t) in enumerate(text):\n",
    "    prompt = f\"\"\"Proofread and correct the following text\n",
    "    and rewrite the corrected version. If you don't find\n",
    "    and errors, just say \"No errors found\". Don't use \n",
    "    any punctuation around the text:\n",
    "    ```{t}```\"\"\"\n",
    "    response = get_completion(prompt)\n",
    "    print(f\"{key}\\n{response}\")"
   ]
  },
  {
   "cell_type": "code",
   "execution_count": 16,
   "id": "b3090844-9e39-4082-a632-681bd5533874",
   "metadata": {},
   "outputs": [
    {
     "name": "stdout",
     "output_type": "stream",
     "text": [
      "Here is the proofread and corrected review:\n",
      "\n",
      "I got this for my daughter because she keeps taking mine from my room. Yes, adults also like pandas too! She takes it everywhere with her, and it's super soft and cute. One of the ears is a bit lower than the other, and I don't think that was designed to be asymmetrical. It's a bit small for what I paid for it, though. I think there might be other options that are bigger for the same price. It arrived a day earlier than expected, so I got to play with it myself before I gave it to my daughter.\n",
      "\n",
      "Corrected errors:\n",
      "\n",
      "* Added an article (\"I got this\" instead of \"Got this\")\n",
      "* Added a comma after \"daughter\" for clarity\n",
      "* Added an exclamation mark after \"pandas too\" to match the tone\n",
      "* Changed \"cuz\" to \"because\" for proper spelling\n",
      "* Added a comma after \"though\" for clarity\n",
      "* Changed \"I don't think that was designed to be asymmetrical\" to \"I don't think that was designed to be asymmetrical\" to make the sentence clearer\n",
      "* Added a period at the end of the review for proper punctuation\n"
     ]
    }
   ],
   "source": [
    "text = f\"\"\"\n",
    "Got this for my daughter for her birthday cuz she keeps taking \\\n",
    "mine from my room.  Yes, adults also like pandas too.  She takes \\\n",
    "it everywhere with her, and it's super soft and cute.  One of the \\\n",
    "ears is a bit lower than the other, and I don't think that was \\\n",
    "designed to be asymmetrical. It's a bit small for what I paid for it \\\n",
    "though. I think there might be other options that are bigger for \\\n",
    "the same price.  It arrived a day earlier than expected, so I got \\\n",
    "to play with it myself before I gave it to my daughter.\n",
    "\"\"\"\n",
    "prompt = f\"proofread and correct this review: ```{text}```\"\n",
    "response = get_completion(prompt)\n",
    "print(response)"
   ]
  },
  {
   "cell_type": "code",
   "execution_count": 18,
   "id": "62c79ec3-c1d5-41e8-b710-3583ab498ece",
   "metadata": {},
   "outputs": [
    {
     "data": {
      "text/markdown": [
       "<span style='color:red;font-weight:700;text-decoration:line-through;'>Got </span><span style='color:green;font-weight:700;'>Here is the proofread and corrected review: </span>\n",
       "\n",
       "<span style='color:green;font-weight:700;'>I got </span>this for my daughter <span style='color:red;font-weight:700;text-decoration:line-through;'>for her birthday cuz </span><span style='color:green;font-weight:700;'>because </span>she keeps taking mine from my room.  Yes, adults also like pandas <span style='color:red;font-weight:700;text-decoration:line-through;'>too.  </span><span style='color:green;font-weight:700;'>too! </span>She takes it everywhere with her, and it's super soft and cute.  One of the ears is a bit lower than the other, and I don't think that was designed to be asymmetrical. It's a bit small for what I paid for <span style='color:red;font-weight:700;text-decoration:line-through;'>it </span><span style='color:green;font-weight:700;'>it, </span>though. I think there might be other options that are bigger for the same price.  It arrived a day earlier than expected, so I got to play with it myself before I gave it to my daughter.<span style='color:green;font-weight:700;'></span>\n",
       "\n",
       "<span style='color:green;font-weight:700;'>Corrected errors: </span>\n",
       "\n",
       "<span style='color:green;font-weight:700;'>* Added an article (\"I got this\" instead of \"Got this\") </span>\n",
       "\n",
       "<span style='color:green;font-weight:700;'>* Added a comma after \"daughter\" for clarity </span>\n",
       "\n",
       "<span style='color:green;font-weight:700;'>* Added an exclamation mark after \"pandas too\" to match the tone </span>\n",
       "\n",
       "<span style='color:green;font-weight:700;'>* Changed \"cuz\" to \"because\" for proper spelling </span>\n",
       "\n",
       "<span style='color:green;font-weight:700;'>* Added a comma after \"though\" for clarity </span>\n",
       "\n",
       "<span style='color:green;font-weight:700;'>* Changed \"I don't think that was designed to be asymmetrical\" to \"I don't think that was designed to be asymmetrical\" to make the sentence clearer </span>\n",
       "\n",
       "<span style='color:green;font-weight:700;'>* Added a period at the end of the review for proper punctuation</span>"
      ],
      "text/plain": [
       "<IPython.core.display.Markdown object>"
      ]
     },
     "metadata": {},
     "output_type": "display_data"
    }
   ],
   "source": [
    "from redlines import Redlines\n",
    "\n",
    "diff = Redlines(text,response)\n",
    "display(Markdown(diff.output_markdown))"
   ]
  },
  {
   "cell_type": "code",
   "execution_count": 19,
   "id": "35f45dbd-6915-4071-8ba8-8912c43e428a",
   "metadata": {},
   "outputs": [
    {
     "data": {
      "text/markdown": [
       "Here is the rewritten review in markdown format, following APA style guide and targeting an advanced reader:\n",
       "\n",
       "**Panda Plush Toy Review\n",
       "==========\n",
       "\n",
       "A Soft and Cuddly Companion for Panda Enthusiasts of All Ages\n",
       "--------------------------------------------------------\n",
       "\n",
       "I purchased this panda plush toy for my daughter's birthday, as she had developed a fondness for taking mine from my room. It's clear that adults, too, can appreciate the endearing qualities of pandas. The toy has become her constant companion, and its softness and cuteness of the panda are undeniable.\n",
       "\n",
       "However, upon closer inspection, I noticed that one of the ears is slightly lower than the other, which I do not believe was intentionally designed to be asymmetrical. Furthermore, considering the price, I think there may be other options available that offer larger sizes for the same cost.\n",
       "\n",
       "On a positive note, the toy arrived a day earlier than expected, allowing me to enjoy it briefly before presenting it to my daughter.\n",
       "\n",
       "Rating: 4/5 stars"
      ],
      "text/plain": [
       "<IPython.core.display.Markdown object>"
      ]
     },
     "metadata": {},
     "output_type": "display_data"
    }
   ],
   "source": [
    "prompt = f\"\"\"\n",
    "proofread and correct this review. Make it more compelling. \n",
    "Ensure it follows APA style guide and targets an advanced reader. \n",
    "Output in markdown format.\n",
    "Text: ```{text}```\n",
    "\"\"\"\n",
    "response = get_completion(prompt)\n",
    "display(Markdown(response))"
   ]
  },
  {
   "cell_type": "code",
   "execution_count": null,
   "id": "79d3dce7-b158-44ca-87e1-bb93083bb329",
   "metadata": {},
   "outputs": [],
   "source": []
  }
 ],
 "metadata": {
  "kernelspec": {
   "display_name": "Python 3 (ipykernel)",
   "language": "python",
   "name": "python3"
  },
  "language_info": {
   "codemirror_mode": {
    "name": "ipython",
    "version": 3
   },
   "file_extension": ".py",
   "mimetype": "text/x-python",
   "name": "python",
   "nbconvert_exporter": "python",
   "pygments_lexer": "ipython3",
   "version": "3.11.11"
  }
 },
 "nbformat": 4,
 "nbformat_minor": 5
}
